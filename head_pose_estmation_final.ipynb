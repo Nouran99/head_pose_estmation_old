{
  "cells": [
    {
      "cell_type": "code",
      "execution_count": 1,
      "metadata": {
        "id": "eRgs_TRg8qKe"
      },
      "outputs": [],
      "source": [
        "import numpy as np\n",
        "import os,cv2,glob\n",
        "import scipy.io as sio\n",
        "from math import cos, sin\n",
        "from pathlib import Path\n",
        "import pandas as pd\n",
        "import mediapipe as mp\n",
        "from matplotlib import pyplot as plt\n",
        "from mat4py import loadmat\n",
        "import glob\n",
        "import pickle\n",
        "from sklearn.model_selection import train_test_split\n",
        "from sklearn.svm import SVR\n",
        "from sklearn.metrics import mean_squared_error, mean_absolute_error"
      ]
    },
    {
      "attachments": {},
      "cell_type": "markdown",
      "metadata": {},
      "source": [
        "Loading the data\n"
      ]
    },
    {
      "cell_type": "code",
      "execution_count": 2,
      "metadata": {},
      "outputs": [],
      "source": [
        "# Directory containing the face images\n",
        "dir_path = 'M:\\ITI MAT\\ML1\\AFLW2000'\n",
        "\n",
        "os.chdir(dir_path)\n",
        "\n",
        "# Get a list for .mat files in current folder\n",
        "mat_files = glob.glob('*.mat')\n",
        "\n",
        "# List for stroring all the data\n",
        "all_labels = []\n",
        "pitch = []\n",
        "yaw = []\n",
        "roll = []\n",
        "labels = []\n",
        "# Iterate mat files\n",
        "for fname in mat_files:\n",
        "    # Load mat file data into data.\n",
        "    data = loadmat(fname)\n",
        "\n",
        "    # Append data to the list\n",
        "    all_labels.append(data)\n"
      ]
    },
    {
      "cell_type": "code",
      "execution_count": 3,
      "metadata": {},
      "outputs": [],
      "source": [
        "\n",
        "# Get a list for .jpg files in current folder\n",
        "jpg_files = glob.glob('*.jpg')\n",
        "\n",
        "# List for stroring all the data\n",
        "all_data = []\n",
        "\n",
        "# Iterate .jpg files\n",
        "for fname in jpg_files:\n",
        "    # Load mat file data into data.\n",
        "    data = cv2.imread(fname)\n",
        "\n",
        "    # Append data to the list\n",
        "    all_data.append(data)\n"
      ]
    },
    {
      "cell_type": "code",
      "execution_count": 4,
      "metadata": {},
      "outputs": [],
      "source": [
        "def extract_features(image):\n",
        "    xy =[]\n",
        "    faceModule = mp.solutions.face_mesh\n",
        "    # loading image and its correspinding mat file\n",
        "    with faceModule.FaceMesh(static_image_mode=True) as faces:\n",
        "        # processing the face to extract the landmark points (468 point) for each x,y,z\n",
        "        results = faces.process(cv2.cvtColor(image, cv2.COLOR_BGR2RGB))\n",
        "        if results.multi_face_landmarks != None: \n",
        "        # looping over the faces in the image\n",
        "            for face in results.multi_face_landmarks:\n",
        "                for landmark in face.landmark:\n",
        "                    x = landmark.x\n",
        "                    y = landmark.y\n",
        "                    # note: the x and y values are scaled to the their width and height so we will get back their actual value in the image\n",
        "                    shape = image.shape \n",
        "                    xy.append(x)\n",
        "                    xy.append(y)\n",
        "                    \n",
        "    return np.array(xy)"
      ]
    },
    {
      "cell_type": "code",
      "execution_count": 5,
      "metadata": {},
      "outputs": [
        {
          "data": {
            "text/plain": [
              "False"
            ]
          },
          "execution_count": 5,
          "metadata": {},
          "output_type": "execute_result"
        }
      ],
      "source": [
        "len(all_data[0]) == 936"
      ]
    },
    {
      "cell_type": "code",
      "execution_count": 7,
      "metadata": {},
      "outputs": [],
      "source": [
        "x = []\n",
        "y = []\n",
        "for i in range (len(all_data)):\n",
        "    feature = extract_features(all_data[i])\n",
        "    if len(feature) == 936:\n",
        "        x.append(feature)\n",
        "        y.append(all_labels[i])\n",
        "x = np.array(x)\n"
      ]
    },
    {
      "cell_type": "code",
      "execution_count": 8,
      "metadata": {},
      "outputs": [],
      "source": [
        "all_data =x\n",
        "all_labels =y"
      ]
    },
    {
      "attachments": {},
      "cell_type": "markdown",
      "metadata": {},
      "source": [
        "preparing the data for training"
      ]
    },
    {
      "cell_type": "code",
      "execution_count": 9,
      "metadata": {},
      "outputs": [
        {
          "data": {
            "text/plain": [
              "(1853, 936)"
            ]
          },
          "execution_count": 9,
          "metadata": {},
          "output_type": "execute_result"
        }
      ],
      "source": [
        "all_data.reshape(-1,936)\n",
        "all_data.shape"
      ]
    },
    {
      "cell_type": "code",
      "execution_count": 10,
      "metadata": {},
      "outputs": [],
      "source": [
        "# extracting the labels 3 angels\n",
        "for data in all_labels:\n",
        "    pose_para = data[\"Pose_Para\"][:3]\n",
        "    labels.append(pose_para)\n",
        "    pitch.append(pose_para[0])\n",
        "    yaw.append(pose_para[1])\n",
        "    roll.append(pose_para[2])"
      ]
    },
    {
      "cell_type": "code",
      "execution_count": 11,
      "metadata": {},
      "outputs": [],
      "source": [
        "# Split the data into training and test sets\n",
        "x_train_p, x_test_val_p, y_train_p, y_test_val_p = train_test_split(all_data, pitch, test_size=0.4, random_state=42)\n",
        "x_validation_p, x_test_p, y_validation_p, y_test_p = train_test_split(x_test_val_p, y_test_val_p, test_size=0.5, random_state=42)"
      ]
    },
    {
      "cell_type": "code",
      "execution_count": 12,
      "metadata": {},
      "outputs": [],
      "source": [
        "# Split the data into training and test sets\n",
        "x_train_y, x_test_val_y, y_train_y, y_test_val_y = train_test_split(all_data, yaw, test_size=0.4, random_state=42)\n",
        "x_validation_y, x_test_y, y_validation_y, y_test_y = train_test_split(x_test_val_y, y_test_val_y, test_size=0.5, random_state=42)"
      ]
    },
    {
      "cell_type": "code",
      "execution_count": 13,
      "metadata": {},
      "outputs": [],
      "source": [
        "# Split the data into training and test sets\n",
        "x_train_r, x_test_val_r, y_train_r, y_test_val_r = train_test_split(all_data, roll, test_size=0.4, random_state=42)\n",
        "x_validation_r, x_test_r, y_validation_r, y_test_r = train_test_split(x_test_val_r, y_test_val_r, test_size=0.5, random_state=42)"
      ]
    },
    {
      "attachments": {},
      "cell_type": "markdown",
      "metadata": {},
      "source": [
        "Exploring svr model results"
      ]
    },
    {
      "cell_type": "code",
      "execution_count": 14,
      "metadata": {},
      "outputs": [
        {
          "name": "stdout",
          "output_type": "stream",
          "text": [
            "Mean Squared Error linear: 0.06282937897007497\n",
            "Mean Absolute Error linear: 0.11206656822709019\n"
          ]
        }
      ],
      "source": [
        "# Train a Support Vector Machine (SVM) regressor on the training data\n",
        "regressor_p = SVR(kernel=\"linear\")\n",
        "regressor_p.fit(x_train_p, y_train_p)\n",
        "\n",
        "# Make predictions on the validation data \n",
        "y_pred_val = regressor_p.predict(x_validation_p)\n",
        "\n",
        "# Evaluate the performance of the regressor\n",
        "mse = mean_squared_error(y_validation_p, y_pred_val)\n",
        "mae = mean_absolute_error(y_validation_p, y_pred_val)\n",
        "print(\"Mean Squared Error linear:\", mse)\n",
        "print(\"Mean Absolute Error linear:\", mae)"
      ]
    },
    {
      "cell_type": "code",
      "execution_count": 15,
      "metadata": {},
      "outputs": [
        {
          "name": "stdout",
          "output_type": "stream",
          "text": [
            "Mean Squared Error linear: 0.027463003104364902\n",
            "Mean Absolute Error linear: 0.101667436713204\n"
          ]
        }
      ],
      "source": [
        "# Train a Support Vector Machine (SVM) regressor on the training data\n",
        "regressor_y = SVR(kernel=\"linear\")\n",
        "regressor_y.fit(x_train_y, y_train_y)\n",
        "\n",
        "# Make predictions on the validation data \n",
        "y_pred_val = regressor_y.predict(x_validation_y)\n",
        "\n",
        "# Evaluate the performance of the regressor\n",
        "mse = mean_squared_error(y_validation_y, y_pred_val)\n",
        "mae = mean_absolute_error(y_validation_y, y_pred_val)\n",
        "print(\"Mean Squared Error linear:\", mse)\n",
        "print(\"Mean Absolute Error linear:\", mae)"
      ]
    },
    {
      "cell_type": "code",
      "execution_count": 16,
      "metadata": {},
      "outputs": [
        {
          "name": "stdout",
          "output_type": "stream",
          "text": [
            "Mean Squared Error linear: 0.05917563651712595\n",
            "Mean Absolute Error linear: 0.09161354512495942\n"
          ]
        }
      ],
      "source": [
        "# Train a Support Vector Machine (SVM) regressor on the training data\n",
        "regressor_r = SVR(kernel=\"linear\")\n",
        "regressor_r.fit(x_train_r, y_train_r)\n",
        "\n",
        "# Make predictions on the validation data \n",
        "y_pred_val = regressor_r.predict(x_validation_r)\n",
        "\n",
        "# Evaluate the performance of the regressor\n",
        "mse = mean_squared_error(y_validation_r, y_pred_val)\n",
        "mae = mean_absolute_error(y_validation_r, y_pred_val)\n",
        "print(\"Mean Squared Error linear:\", mse)\n",
        "print(\"Mean Absolute Error linear:\", mae)"
      ]
    },
    {
      "cell_type": "code",
      "execution_count": 17,
      "metadata": {},
      "outputs": [
        {
          "name": "stdout",
          "output_type": "stream",
          "text": [
            "Mean Squared Error rbf: 0.05606993882211022\n",
            "Mean Absolute Error rbf: 0.09904784546842245\n"
          ]
        }
      ],
      "source": [
        "# Train a Support Vector Machine (SVM) regressor on the training data\n",
        "regressor2_p = SVR(kernel= \"rbf\")\n",
        "regressor2_p.fit(x_train_p, y_train_p)\n",
        "\n",
        "# Make predictions on the validation data \n",
        "y_pred_val2 = regressor2_p.predict(x_validation_p)\n",
        "\n",
        "# Evaluate the performance of the regressor\n",
        "mse2 = mean_squared_error(y_validation_p, y_pred_val2)\n",
        "mae2 = mean_absolute_error(y_validation_p, y_pred_val2)\n",
        "print(\"Mean Squared Error rbf:\", mse2)\n",
        "print(\"Mean Absolute Error rbf:\", mae2)"
      ]
    },
    {
      "cell_type": "code",
      "execution_count": 18,
      "metadata": {},
      "outputs": [
        {
          "name": "stdout",
          "output_type": "stream",
          "text": [
            "Mean Squared Error rbf: 0.024884991712276365\n",
            "Mean Absolute Error rbf: 0.07852614983187449\n"
          ]
        }
      ],
      "source": [
        "# Train a Support Vector Machine (SVM) regressor on the training data\n",
        "regressor2_y = SVR(kernel= \"rbf\")\n",
        "regressor2_y.fit(x_train_y, y_train_y)\n",
        "\n",
        "# Make predictions on the validation data \n",
        "y_pred_val2 = regressor2_y.predict(x_validation_y)\n",
        "\n",
        "# Evaluate the performance of the regressor\n",
        "mse2 = mean_squared_error(y_validation_y, y_pred_val2)\n",
        "mae2 = mean_absolute_error(y_validation_y, y_pred_val2)\n",
        "print(\"Mean Squared Error rbf:\", mse2)\n",
        "print(\"Mean Absolute Error rbf:\", mae2)"
      ]
    },
    {
      "cell_type": "code",
      "execution_count": 19,
      "metadata": {},
      "outputs": [
        {
          "name": "stdout",
          "output_type": "stream",
          "text": [
            "Mean Squared Error rbf: 0.049752632147630954\n",
            "Mean Absolute Error rbf: 0.07553977322692401\n"
          ]
        }
      ],
      "source": [
        "# Train a Support Vector Machine (SVM) regressor on the training data\n",
        "regressor2_r = SVR(kernel= \"rbf\")\n",
        "regressor2_r.fit(x_train_r, y_train_r)\n",
        "\n",
        "# Make predictions on the validation data \n",
        "y_pred_val2 = regressor2_r.predict(x_validation_r)\n",
        "\n",
        "# Evaluate the performance of the regressor\n",
        "mse2 = mean_squared_error(y_validation_r, y_pred_val2)\n",
        "mae2 = mean_absolute_error(y_validation_r, y_pred_val2)\n",
        "print(\"Mean Squared Error rbf:\", mse2)\n",
        "print(\"Mean Absolute Error rbf:\", mae2)"
      ]
    },
    {
      "cell_type": "code",
      "execution_count": 20,
      "metadata": {},
      "outputs": [],
      "source": [
        "# Save the model to a file\n",
        "\n",
        "with open('model_y.pkl', 'wb') as fy:\n",
        "    pickle.dump(regressor2_y, fy)"
      ]
    },
    {
      "cell_type": "code",
      "execution_count": 21,
      "metadata": {},
      "outputs": [],
      "source": [
        "with open('model_p.pkl', 'wb') as fp:\n",
        "    pickle.dump(regressor2_p, fp)"
      ]
    },
    {
      "cell_type": "code",
      "execution_count": 22,
      "metadata": {},
      "outputs": [],
      "source": [
        "with open('model_r.pkl', 'wb') as fr:\n",
        "    pickle.dump(regressor2_r, fr)"
      ]
    },
    {
      "cell_type": "code",
      "execution_count": 23,
      "metadata": {},
      "outputs": [],
      "source": [
        "import pickle\n",
        "\n",
        "# Load the model from a file\n",
        "with open('model_p.pkl', 'rb') as fp:\n",
        "    regressor2_p = pickle.load(fp)\n",
        "with open('model_y.pkl', 'rb') as fy:\n",
        "    regressor2_y = pickle.load(fy)\n",
        "with open('model_r.pkl', 'rb') as fr:\n",
        "    regressor2_r = pickle.load(fr)"
      ]
    },
    {
      "attachments": {},
      "cell_type": "markdown",
      "metadata": {},
      "source": [
        "Test the choosen model svr"
      ]
    },
    {
      "cell_type": "code",
      "execution_count": 24,
      "metadata": {},
      "outputs": [],
      "source": [
        "# Make predictions on the validation data \n",
        "y_pred_p = regressor2_p.predict(x_test_p)\n",
        "y_pred_y = regressor2_y.predict(x_test_y)\n",
        "y_pred_r = regressor2_r.predict(x_test_r)\n"
      ]
    },
    {
      "cell_type": "code",
      "execution_count": 25,
      "metadata": {},
      "outputs": [
        {
          "data": {
            "image/png": "[encoded data removed]",
            "text/plain": [
              "<Figure size 640x480 with 1 Axes>"
            ]
          },
          "metadata": {},
          "output_type": "display_data"
        },
        {
          "data": {
            "image/png": "[encoded data removed]",
            "text/plain": [
              "<Figure size 640x480 with 1 Axes>"
            ]
          },
          "metadata": {},
          "output_type": "display_data"
        },
        {
          "data": {
            "image/png": "[encoded data removed]",
            "text/plain": [
              "<Figure size 640x480 with 1 Axes>"
            ]
          },
          "metadata": {},
          "output_type": "display_data"
        }
      ],
      "source": [
        "# Plot the true vs predicted values\n",
        "plt.scatter(y_test_p, y_pred_p, color=\"blue\")\n",
        "plt.xlabel(\"True Pitch\")\n",
        "plt.ylabel(\"Predicted Pitch\")\n",
        "plt.show()\n",
        "\n",
        "plt.scatter(y_test_y, y_pred_y, color=\"red\")\n",
        "plt.xlabel(\"True Yaw\")\n",
        "plt.ylabel(\"Predicted Yaw\")\n",
        "plt.show()\n",
        "\n",
        "plt.scatter(y_test_r, y_pred_r, color=\"green\")\n",
        "plt.xlabel(\"True Roll\")\n",
        "plt.ylabel(\"Predicted Roll\")\n",
        "plt.show()"
      ]
    },
    {
      "attachments": {},
      "cell_type": "markdown",
      "metadata": {},
      "source": [
        "Loading the video data"
      ]
    },
    {
      "cell_type": "code",
      "execution_count": 26,
      "metadata": {},
      "outputs": [],
      "source": [
        "def draw_axis(img, pitch,yaw,roll, tdx=None, tdy=None, size = 100):\n",
        "\n",
        "    yaw = -yaw\n",
        "    if tdx != None and tdy != None:\n",
        "        tdx = tdx\n",
        "        tdy = tdy\n",
        "    else:\n",
        "        height, width = img.shape[:2]\n",
        "        tdx = width / 2\n",
        "        tdy = height / 2\n",
        "\n",
        "    # X-Axis pointing to right. drawn in red\n",
        "    x1 = size * (cos(yaw) * cos(roll)) + tdx\n",
        "    y1 = size * (cos(pitch) * sin(roll) + cos(roll) * sin(pitch) * sin(yaw)) + tdy\n",
        "\n",
        "    # Y-Axis | drawn in green\n",
        "    #        v\n",
        "    x2 = size * (-cos(yaw) * sin(roll)) + tdx\n",
        "    y2 = size * (cos(pitch) * cos(roll) - sin(pitch) * sin(yaw) * sin(roll)) + tdy\n",
        "\n",
        "    # Z-Axis (out of the screen) drawn in blue\n",
        "    x3 = size * (sin(yaw)) + tdx\n",
        "    y3 = size * (-cos(yaw) * sin(pitch)) + tdy\n",
        "\n",
        "    cv2.line(img, (int(tdx), int(tdy)), (int(x1),int(y1)),(0,0,255),3)\n",
        "    cv2.line(img, (int(tdx), int(tdy)), (int(x2),int(y2)),(0,255,0),3)\n",
        "    cv2.line(img, (int(tdx), int(tdy)), (int(x3),int(y3)),(255,0,0),2)\n",
        "\n",
        "    return img"
      ]
    },
    {
      "cell_type": "code",
      "execution_count": null,
      "metadata": {},
      "outputs": [],
      "source": [
        "# Load the video data\n",
        "cap = cv2.VideoCapture(0)\n",
        "width = int(cap.get(cv2.CAP_PROP_FRAME_WIDTH) + 0.5)\n",
        "height = int(cap.get(cv2.CAP_PROP_FRAME_HEIGHT) + 0.5)\n",
        "size = (width, height)\n",
        "fourcc = cv2.VideoWriter_fourcc(*'MP4V')\n",
        "out = cv2.VideoWriter('video.avi', fourcc, 20.0, size)\n",
        "# Loop over each frame of the video\n",
        "while cap.isOpened():\n",
        "    ret, frame = cap.read()\n",
        "    if ret:\n",
        "        # Pre-process the frame data (face detection, alignment, feature extraction)\n",
        "        features = extract_features(frame)\n",
        "        features = features.reshape(1,-1)\n",
        "        # Predict the head pose\n",
        "        y_pred_p = regressor2_p.predict(features)\n",
        "        y_pred_y = regressor2_y.predict(features)\n",
        "        y_pred_r = regressor2_r.predict(features)\n",
        "    \n",
        "        # Visualize the results\n",
        "        img = draw_axis(frame, y_pred_p, y_pred_y, y_pred_r ,feature[6]*width, feature[7]*height)\n",
        "        cv2.imshow('Head Pose Estimation', img)\n",
        "        out.write(img)\n",
        "        if cv2.waitKey(1) & 0xFF == ord(\"q\"):\n",
        "            break\n",
        "    else:\n",
        "        break\n",
        "\n",
        "cap.release()\n",
        "out.release()\n",
        "cv2.destroyAllWindows()"
      ]
    }
  ],
  "metadata": {
    "colab": {
      "provenance": []
    },
    "kernelspec": {
      "display_name": "base",
      "language": "python",
      "name": "python3"
    },
    "language_info": {
      "codemirror_mode": {
        "name": "ipython",
        "version": 3
      },
      "file_extension": ".py",
      "mimetype": "text/x-python",
      "name": "python",
      "nbconvert_exporter": "python",
      "pygments_lexer": "ipython3",
      "version": "3.9.13"
    },
    "orig_nbformat": 4,
    "vscode": {
      "interpreter": {
        "hash": "a3440b8b0d77b37749875a084ed3933dc65d85e876557744a47141c1823e3788"
      }
    }
  },
  "nbformat": 4,
  "nbformat_minor": 0
}
